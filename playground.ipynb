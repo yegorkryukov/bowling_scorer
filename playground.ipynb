{
 "cells": [
  {
   "cell_type": "code",
   "execution_count": 1,
   "metadata": {},
   "outputs": [],
   "source": [
    "def Input_Check(sequence):\n",
    "    \"\"\"\n",
    "    (FUTURE) Checks the validity of an input secuence\n",
    "    \"\"\"\n",
    "    return sequence"
   ]
  },
  {
   "cell_type": "code",
   "execution_count": null,
   "metadata": {},
   "outputs": [],
   "source": [
    "def Frame_Scorer(sequence):\n",
    "    \"\"\"\n",
    "    Calculates scores per frame\n",
    "    \n",
    "    INPUT\n",
    "    ------\n",
    "    sequence : String of scores\n",
    "    \"\"\"\n",
    "    # continue if input sequence is correct\n",
    "    if Input_Check(sequence):\n",
    "        \n",
    "    else\n",
    "        \n",
    "    "
   ]
  }
 ],
 "metadata": {
  "kernelspec": {
   "display_name": "Python 3",
   "language": "python",
   "name": "python3"
  },
  "language_info": {
   "codemirror_mode": {
    "name": "ipython",
    "version": 3
   },
   "file_extension": ".py",
   "mimetype": "text/x-python",
   "name": "python",
   "nbconvert_exporter": "python",
   "pygments_lexer": "ipython3",
   "version": "3.6.6"
  }
 },
 "nbformat": 4,
 "nbformat_minor": 2
}
